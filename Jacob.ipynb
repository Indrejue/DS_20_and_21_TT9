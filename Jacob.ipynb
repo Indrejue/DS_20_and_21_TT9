{
 "cells": [
  {
   "cell_type": "code",
   "execution_count": 284,
   "metadata": {},
   "outputs": [],
   "source": [
    "import pandas as pd\n",
    "import numpy as np\n",
    "import re"
   ]
  },
  {
   "cell_type": "code",
   "execution_count": 285,
   "metadata": {},
   "outputs": [],
   "source": [
    "drop_columns = ['id', 'slug', 'thc', 'cbd']"
   ]
  },
  {
   "cell_type": "code",
   "execution_count": 286,
   "metadata": {},
   "outputs": [],
   "source": [
    "products = pd.read_csv(\"./Data/kushy_datasets/Products/products-kushy_api.2017-11-14.csv\")"
   ]
  },
  {
   "cell_type": "code",
   "execution_count": 287,
   "metadata": {},
   "outputs": [],
   "source": [
    "products['strain'] = products['strain'].str.replace('-', ' ')"
   ]
  },
  {
   "cell_type": "code",
   "execution_count": 288,
   "metadata": {},
   "outputs": [],
   "source": [
    "products = products.drop(columns=drop_columns)"
   ]
  },
  {
   "cell_type": "code",
   "execution_count": 289,
   "metadata": {},
   "outputs": [],
   "source": [
    "strains = pd.read_csv(\"./Data/kushy_datasets/Strains/strains-kushy_api.2017-11-14.csv\")"
   ]
  },
  {
   "cell_type": "code",
   "execution_count": 290,
   "metadata": {},
   "outputs": [],
   "source": [
    "strains = strains.rename(columns={\"name\": \"strain\"})"
   ]
  },
  {
   "cell_type": "code",
   "execution_count": 291,
   "metadata": {},
   "outputs": [],
   "source": [
    "strains['strain'] = strains['strain'].str.replace('-', ' ')"
   ]
  },
  {
   "cell_type": "code",
   "execution_count": 292,
   "metadata": {},
   "outputs": [],
   "source": [
    "strains = strains.drop(columns=drop_columns)"
   ]
  },
  {
   "cell_type": "code",
   "execution_count": 293,
   "metadata": {},
   "outputs": [],
   "source": [
    "df = products.merge(strains, how='outer', on='strain', suffixes=('_prod_db', '_strain_db'))"
   ]
  },
  {
   "cell_type": "code",
   "execution_count": 294,
   "metadata": {},
   "outputs": [],
   "source": [
    "ratings = pd.read_csv(\"./Data/cannabis.csv\", na_values=[0, '0'])"
   ]
  },
  {
   "cell_type": "code",
   "execution_count": 295,
   "metadata": {},
   "outputs": [],
   "source": [
    "ratings['Strain'] = ratings['Strain'].str.replace('-', ' ')"
   ]
  },
  {
   "cell_type": "code",
   "execution_count": 296,
   "metadata": {},
   "outputs": [],
   "source": [
    "ratings = ratings.rename(columns={\"Strain\": \"strain\"})"
   ]
  },
  {
   "cell_type": "code",
   "execution_count": 297,
   "metadata": {},
   "outputs": [],
   "source": [
    "df = df.merge(ratings, how='left', on='strain', suffixes=('_', '_ratings_db'))"
   ]
  },
  {
   "cell_type": "code",
   "execution_count": 298,
   "metadata": {},
   "outputs": [],
   "source": [
    "def join_columns(df, columns, prefix='_'):\n",
    "    if prefix == '_':\n",
    "        prefix = ''\n",
    "    else:\n",
    "        prefix += '_'\n",
    "    value_set = set()\n",
    "    df_row_values = []\n",
    "    \n",
    "    for row in range(len(df)):\n",
    "        row_values = set()\n",
    "        for col in columns:\n",
    "            try:\n",
    "                val = re.sub('\\s+', '_', df.iloc[row][col].strip())\n",
    "                \n",
    "                for value in val.split(','):\n",
    "                    value_set.add(value.lower().strip('_'))\n",
    "                    row_values.add(value.lower().strip('_'))\n",
    "            except AttributeError as e:\n",
    "                pass\n",
    "        df_row_values.append(row_values)\n",
    "    \n",
    "    df_copy = df.copy()\n",
    "    df_copy[[prefix+x for x in value_set]] = 0\n",
    "    \n",
    "    for i, row in enumerate(df_row_values):\n",
    "        for col in row:\n",
    "            df_copy.loc[i, prefix+col] = 1\n",
    "    \n",
    "    print(columns)\n",
    "    print(value_set)            \n",
    "    df_copy = df_copy.drop(columns=columns)\n",
    "    \n",
    "    return df_copy\n",
    "                \n",
    "                "
   ]
  },
  {
   "cell_type": "code",
   "execution_count": 299,
   "metadata": {},
   "outputs": [
    {
     "name": "stdout",
     "output_type": "stream",
     "text": [
      "['effects', 'Effects']\n",
      "{'sleepy', 'happy', 'dry_mouth', 'relaxed', 'creative', 'tingly', 'uplifted', 'euphoric', 'paranoid', 'aroused', 'hungry', 'energetic', 'mouth', 'giggly', 'talkative', 'dry', 'focused', 'anxious', 'none', 'horny'}\n"
     ]
    }
   ],
   "source": [
    "df = join_columns(df, ['effects', 'Effects'], 'effect')"
   ]
  },
  {
   "cell_type": "code",
   "execution_count": 300,
   "metadata": {},
   "outputs": [
    {
     "name": "stdout",
     "output_type": "stream",
     "text": [
      "['Flavor', 'flavor']\n",
      "{'skunk', 'lavender', 'orange', 'fruit', 'tea', 'coffee', 'blueberry', 'butter', 'mint', 'pungent', 'tree', 'strawberry', 'honey', 'pine', 'minty', 'nutty', 'tropical', 'earthy', 'cheese', 'flowery', 'mango', 'tobacco', 'citrus', 'violet', 'grape', 'sweet', 'rose', 'lemon', 'vanilla', 'menthol', 'sage', 'apricot', 'none', 'pineapple', 'berry', 'plum', 'chestnut', 'pear', 'chemical', 'ammonia', 'spicy/herbal', 'lime', 'peach', 'tar', 'pepper', 'apple', 'woody', 'grapefruit', 'blue', 'diesel'}\n"
     ]
    }
   ],
   "source": [
    "df = join_columns(df, ['Flavor', 'flavor'], 'flavor')"
   ]
  },
  {
   "cell_type": "code",
   "execution_count": 301,
   "metadata": {},
   "outputs": [],
   "source": [
    "df['flavor_tree_fruit'] = df['flavor_tree'] & df['flavor_fruit']\n",
    "df = df.drop(columns=['flavor_tree', 'flavor_fruit'])"
   ]
  },
  {
   "cell_type": "code",
   "execution_count": 302,
   "metadata": {},
   "outputs": [],
   "source": [
    "df['flavor_blue_cheese'] = df['flavor_blue'] & df['flavor_cheese']\n",
    "df = df.drop(columns=['flavor_blue'])"
   ]
  },
  {
   "cell_type": "code",
   "execution_count": 303,
   "metadata": {},
   "outputs": [
    {
     "name": "stdout",
     "output_type": "stream",
     "text": [
      "['ailment']\n",
      "{'inflammation', 'lack_of_appetite', 'nausea', 'pain', 'seizures', 'stress', 'insomnia', 'muscle_spasms', 'depression'}\n"
     ]
    }
   ],
   "source": [
    "df = join_columns(df, ['ailment'], 'ailment')"
   ]
  },
  {
   "cell_type": "code",
   "execution_count": 304,
   "metadata": {
    "scrolled": true
   },
   "outputs": [
    {
     "name": "stdout",
     "output_type": "stream",
     "text": [
      "['category']\n",
      "{'', 'edibles', 'kief', 'shatter', 'spread', 'wax', 'candy', 'vape_cartidge', 'disposable_vape', 'soup', 'oil', 'crumble', 'pill', 'salt', 'rso', 'dressing', 'pre-roll', 'snack', 'flowers', 'tincture', 'bath', 'bubble_hash', 'vapes', 'concentrate', 'drink', 'topical', 'chocolate'}\n"
     ]
    }
   ],
   "source": [
    "df = join_columns(df, ['category'], 'category')"
   ]
  },
  {
   "cell_type": "code",
   "execution_count": 305,
   "metadata": {},
   "outputs": [
    {
     "name": "stdout",
     "output_type": "stream",
     "text": [
      "['Type', 'type']\n",
      "{'outdoo', 'organi', 'indoor', 'inorga', 'sativa', 'indica', 'hybrid'}\n"
     ]
    }
   ],
   "source": [
    "df = join_columns(df, ['Type', 'type'], 'type')"
   ]
  },
  {
   "cell_type": "code",
   "execution_count": 306,
   "metadata": {},
   "outputs": [],
   "source": [
    "if 'none' in df.columns:\n",
    "    df = df.drop(columns=['none'])"
   ]
  },
  {
   "cell_type": "code",
   "execution_count": 307,
   "metadata": {},
   "outputs": [],
   "source": [
    "df = df.drop(columns=['crosses', 'image', 'description', 'status', 'sort', \n",
    "                 'lab_test', 'breeder', 'location', 'terpenes', 'thca', 'thcv', \n",
    "                 'cbda', 'cbdv', 'cbn', 'cbg', 'cbgm', 'cbgv', 'cbc', \n",
    "                 'cbcv', 'cbv', 'cbe', 'cbt', 'cbl', 'category_'])"
   ]
  },
  {
   "cell_type": "code",
   "execution_count": 308,
   "metadata": {},
   "outputs": [],
   "source": [
    "df = df.rename(columns={'type_outdoo':'type_outdoor', 'type_organi':'type_organic', 'type_inorga':'type_inorganic', 'Rating':'rating', 'Description':'description', 'flavor_spicy/herbal':'flavor_spicy_herbal'})"
   ]
  },
  {
   "cell_type": "code",
   "execution_count": 309,
   "metadata": {},
   "outputs": [
    {
     "data": {
      "text/html": [
       "<div>\n",
       "<style scoped>\n",
       "    .dataframe tbody tr th:only-of-type {\n",
       "        vertical-align: middle;\n",
       "    }\n",
       "\n",
       "    .dataframe tbody tr th {\n",
       "        vertical-align: top;\n",
       "    }\n",
       "\n",
       "    .dataframe thead th {\n",
       "        text-align: right;\n",
       "    }\n",
       "</style>\n",
       "<table border=\"1\" class=\"dataframe\">\n",
       "  <thead>\n",
       "    <tr style=\"text-align: right;\">\n",
       "      <th></th>\n",
       "      <th>name</th>\n",
       "      <th>brand</th>\n",
       "      <th>strain</th>\n",
       "      <th>rating</th>\n",
       "      <th>description</th>\n",
       "      <th>effect_sleepy</th>\n",
       "      <th>effect_happy</th>\n",
       "      <th>effect_dry_mouth</th>\n",
       "      <th>effect_relaxed</th>\n",
       "      <th>effect_creative</th>\n",
       "      <th>...</th>\n",
       "      <th>category_drink</th>\n",
       "      <th>category_topical</th>\n",
       "      <th>category_chocolate</th>\n",
       "      <th>type_outdoor</th>\n",
       "      <th>type_organic</th>\n",
       "      <th>type_indoor</th>\n",
       "      <th>type_inorganic</th>\n",
       "      <th>type_sativa</th>\n",
       "      <th>type_indica</th>\n",
       "      <th>type_hybrid</th>\n",
       "    </tr>\n",
       "  </thead>\n",
       "  <tbody>\n",
       "    <tr>\n",
       "      <th>0</th>\n",
       "      <td>Pre-Roll Package - Pre-roll</td>\n",
       "      <td>The Humboldt Cure</td>\n",
       "      <td>NaN</td>\n",
       "      <td>NaN</td>\n",
       "      <td>NaN</td>\n",
       "      <td>0</td>\n",
       "      <td>0</td>\n",
       "      <td>0</td>\n",
       "      <td>0</td>\n",
       "      <td>0</td>\n",
       "      <td>...</td>\n",
       "      <td>0</td>\n",
       "      <td>0</td>\n",
       "      <td>0</td>\n",
       "      <td>0</td>\n",
       "      <td>0</td>\n",
       "      <td>0</td>\n",
       "      <td>0</td>\n",
       "      <td>0</td>\n",
       "      <td>0</td>\n",
       "      <td>1</td>\n",
       "    </tr>\n",
       "    <tr>\n",
       "      <th>1</th>\n",
       "      <td>ounce of cannabis</td>\n",
       "      <td>The Humboldt Cure</td>\n",
       "      <td>NaN</td>\n",
       "      <td>NaN</td>\n",
       "      <td>NaN</td>\n",
       "      <td>0</td>\n",
       "      <td>0</td>\n",
       "      <td>0</td>\n",
       "      <td>0</td>\n",
       "      <td>0</td>\n",
       "      <td>...</td>\n",
       "      <td>0</td>\n",
       "      <td>0</td>\n",
       "      <td>0</td>\n",
       "      <td>0</td>\n",
       "      <td>0</td>\n",
       "      <td>0</td>\n",
       "      <td>0</td>\n",
       "      <td>0</td>\n",
       "      <td>0</td>\n",
       "      <td>1</td>\n",
       "    </tr>\n",
       "    <tr>\n",
       "      <th>2</th>\n",
       "      <td>1/2 ounce of cannabis</td>\n",
       "      <td>The Humboldt Cure</td>\n",
       "      <td>NaN</td>\n",
       "      <td>NaN</td>\n",
       "      <td>NaN</td>\n",
       "      <td>0</td>\n",
       "      <td>0</td>\n",
       "      <td>0</td>\n",
       "      <td>0</td>\n",
       "      <td>0</td>\n",
       "      <td>...</td>\n",
       "      <td>0</td>\n",
       "      <td>0</td>\n",
       "      <td>0</td>\n",
       "      <td>0</td>\n",
       "      <td>0</td>\n",
       "      <td>0</td>\n",
       "      <td>0</td>\n",
       "      <td>0</td>\n",
       "      <td>0</td>\n",
       "      <td>1</td>\n",
       "    </tr>\n",
       "    <tr>\n",
       "      <th>3</th>\n",
       "      <td>1/4 ounce of cannabis</td>\n",
       "      <td>The Humboldt Cure</td>\n",
       "      <td>NaN</td>\n",
       "      <td>NaN</td>\n",
       "      <td>NaN</td>\n",
       "      <td>0</td>\n",
       "      <td>0</td>\n",
       "      <td>0</td>\n",
       "      <td>0</td>\n",
       "      <td>0</td>\n",
       "      <td>...</td>\n",
       "      <td>0</td>\n",
       "      <td>0</td>\n",
       "      <td>0</td>\n",
       "      <td>0</td>\n",
       "      <td>0</td>\n",
       "      <td>0</td>\n",
       "      <td>0</td>\n",
       "      <td>0</td>\n",
       "      <td>0</td>\n",
       "      <td>1</td>\n",
       "    </tr>\n",
       "    <tr>\n",
       "      <th>4</th>\n",
       "      <td>1/8</td>\n",
       "      <td>The Humboldt Cure</td>\n",
       "      <td>NaN</td>\n",
       "      <td>NaN</td>\n",
       "      <td>NaN</td>\n",
       "      <td>0</td>\n",
       "      <td>0</td>\n",
       "      <td>0</td>\n",
       "      <td>0</td>\n",
       "      <td>0</td>\n",
       "      <td>...</td>\n",
       "      <td>0</td>\n",
       "      <td>0</td>\n",
       "      <td>0</td>\n",
       "      <td>0</td>\n",
       "      <td>0</td>\n",
       "      <td>0</td>\n",
       "      <td>0</td>\n",
       "      <td>0</td>\n",
       "      <td>0</td>\n",
       "      <td>1</td>\n",
       "    </tr>\n",
       "  </tbody>\n",
       "</table>\n",
       "<p>5 rows × 116 columns</p>\n",
       "</div>"
      ],
      "text/plain": [
       "                          name              brand strain  rating description  \\\n",
       "0  Pre-Roll Package - Pre-roll  The Humboldt Cure    NaN     NaN         NaN   \n",
       "1            ounce of cannabis  The Humboldt Cure    NaN     NaN         NaN   \n",
       "2        1/2 ounce of cannabis  The Humboldt Cure    NaN     NaN         NaN   \n",
       "3        1/4 ounce of cannabis  The Humboldt Cure    NaN     NaN         NaN   \n",
       "4                          1/8  The Humboldt Cure    NaN     NaN         NaN   \n",
       "\n",
       "   effect_sleepy  effect_happy  effect_dry_mouth  effect_relaxed  \\\n",
       "0              0             0                 0               0   \n",
       "1              0             0                 0               0   \n",
       "2              0             0                 0               0   \n",
       "3              0             0                 0               0   \n",
       "4              0             0                 0               0   \n",
       "\n",
       "   effect_creative  ...  category_drink  category_topical  category_chocolate  \\\n",
       "0                0  ...               0                 0                   0   \n",
       "1                0  ...               0                 0                   0   \n",
       "2                0  ...               0                 0                   0   \n",
       "3                0  ...               0                 0                   0   \n",
       "4                0  ...               0                 0                   0   \n",
       "\n",
       "   type_outdoor  type_organic  type_indoor  type_inorganic  type_sativa  \\\n",
       "0             0             0            0               0            0   \n",
       "1             0             0            0               0            0   \n",
       "2             0             0            0               0            0   \n",
       "3             0             0            0               0            0   \n",
       "4             0             0            0               0            0   \n",
       "\n",
       "   type_indica  type_hybrid  \n",
       "0            0            1  \n",
       "1            0            1  \n",
       "2            0            1  \n",
       "3            0            1  \n",
       "4            0            1  \n",
       "\n",
       "[5 rows x 116 columns]"
      ]
     },
     "execution_count": 309,
     "metadata": {},
     "output_type": "execute_result"
    }
   ],
   "source": [
    "df.head()"
   ]
  },
  {
   "cell_type": "code",
   "execution_count": 310,
   "metadata": {},
   "outputs": [],
   "source": [
    "df.to_csv('weed.csv', index=False)"
   ]
  }
 ],
 "metadata": {
  "kernelspec": {
   "display_name": "Python 3",
   "language": "python",
   "name": "python3"
  },
  "language_info": {
   "codemirror_mode": {
    "name": "ipython",
    "version": 3
   },
   "file_extension": ".py",
   "mimetype": "text/x-python",
   "name": "python",
   "nbconvert_exporter": "python",
   "pygments_lexer": "ipython3",
   "version": "3.8.5"
  }
 },
 "nbformat": 4,
 "nbformat_minor": 4
}
